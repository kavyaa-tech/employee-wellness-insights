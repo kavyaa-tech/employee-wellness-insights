{
 "cells": [
  {
   "cell_type": "code",
   "execution_count": null,
   "id": "6a8149dc",
   "metadata": {},
   "outputs": [],
   "source": []
  },
  {
   "cell_type": "code",
   "execution_count": 3,
   "id": "0fe01d79",
   "metadata": {},
   "outputs": [
    {
     "name": "stdout",
     "output_type": "stream",
     "text": [
      "Requirement already satisfied: pandas in c:\\users\\administrator\\anaconda3\\lib\\site-packages (2.2.3)\n",
      "Requirement already satisfied: numpy>=1.23.2 in c:\\users\\administrator\\anaconda3\\lib\\site-packages (from pandas) (1.24.3)\n",
      "Requirement already satisfied: python-dateutil>=2.8.2 in c:\\users\\administrator\\anaconda3\\lib\\site-packages (from pandas) (2.9.0.post0)\n",
      "Requirement already satisfied: pytz>=2020.1 in c:\\users\\administrator\\anaconda3\\lib\\site-packages (from pandas) (2023.3.post1)\n",
      "Requirement already satisfied: tzdata>=2022.7 in c:\\users\\administrator\\anaconda3\\lib\\site-packages (from pandas) (2023.3)\n",
      "Requirement already satisfied: six>=1.5 in c:\\users\\administrator\\anaconda3\\lib\\site-packages (from python-dateutil>=2.8.2->pandas) (1.17.0)\n"
     ]
    }
   ],
   "source": [
    "!pip3 install --upgrade pandas"
   ]
  },
  {
   "cell_type": "code",
   "execution_count": 4,
   "id": "1237f2de",
   "metadata": {},
   "outputs": [],
   "source": [
    "import pandas as pd"
   ]
  },
  {
   "cell_type": "code",
   "execution_count": 5,
   "id": "c20c0afb",
   "metadata": {},
   "outputs": [],
   "source": [
    "df = pd.read_csv(\"health_checkup_data.csv\")"
   ]
  },
  {
   "cell_type": "code",
   "execution_count": 7,
   "id": "9063163e",
   "metadata": {},
   "outputs": [
    {
     "name": "stdout",
     "output_type": "stream",
     "text": [
      "Shape: (10000, 9)\n"
     ]
    }
   ],
   "source": [
    "print(\"Shape:\", df.shape)"
   ]
  },
  {
   "cell_type": "code",
   "execution_count": 8,
   "id": "9cf2e909",
   "metadata": {},
   "outputs": [
    {
     "name": "stdout",
     "output_type": "stream",
     "text": [
      "Column types:\n",
      " employee_id       object\n",
      "date              object\n",
      "age                int64\n",
      "gender            object\n",
      "company           object\n",
      "location          object\n",
      "blood_pressure     int64\n",
      "sugar_level        int64\n",
      "cholesterol        int64\n",
      "dtype: object\n"
     ]
    }
   ],
   "source": [
    "print(\"Column types:\\n\", df.dtypes)"
   ]
  },
  {
   "cell_type": "code",
   "execution_count": 9,
   "id": "b4f0b8da",
   "metadata": {},
   "outputs": [
    {
     "name": "stdout",
     "output_type": "stream",
     "text": [
      "Missing values:\n",
      " employee_id       0\n",
      "date              0\n",
      "age               0\n",
      "gender            0\n",
      "company           0\n",
      "location          0\n",
      "blood_pressure    0\n",
      "sugar_level       0\n",
      "cholesterol       0\n",
      "dtype: int64\n"
     ]
    }
   ],
   "source": [
    "print(\"Missing values:\\n\", df.isnull().sum())"
   ]
  },
  {
   "cell_type": "code",
   "execution_count": 10,
   "id": "488da466",
   "metadata": {},
   "outputs": [
    {
     "name": "stdout",
     "output_type": "stream",
     "text": [
      "                            employee_id        date  age  gender    company  \\\n",
      "0  bdd640fb-0667-4ad1-9c80-317fa3b1799d  2022-04-13   56    Male    Infosys   \n",
      "1  23b8c1e9-3924-46de-beb1-3b9046685257  2023-03-12   53    Male        TCS   \n",
      "2  bd9c66b3-ad3c-4d6d-9a3d-1fa7bc8960a9  2022-09-28   35   Other  Accenture   \n",
      "3  972a8469-1641-4f82-8b9d-2434e465e150  2022-04-17   22    Male        TCS   \n",
      "4  17fc695a-07a0-4a6e-8822-e8f36c031199  2022-03-13   38  Female    Infosys   \n",
      "\n",
      "    location  blood_pressure  sugar_level  cholesterol  \n",
      "0  Hyderabad             113          141          236  \n",
      "1      Delhi             160          140          283  \n",
      "2  Hyderabad             133          134          159  \n",
      "3     Mumbai             103          106          253  \n",
      "4  Bangalore             102          147          261  \n"
     ]
    }
   ],
   "source": [
    "print(df.head())"
   ]
  },
  {
   "cell_type": "code",
   "execution_count": 11,
   "id": "823e4a70",
   "metadata": {},
   "outputs": [],
   "source": [
    "df['date'] = pd.to_datetime(df['date'], errors='coerce')"
   ]
  },
  {
   "cell_type": "code",
   "execution_count": 12,
   "id": "fbc2a213",
   "metadata": {},
   "outputs": [],
   "source": [
    "df = df.drop_duplicates()"
   ]
  },
  {
   "cell_type": "code",
   "execution_count": 13,
   "id": "9cf6fff7",
   "metadata": {},
   "outputs": [],
   "source": [
    "df['gender'] = df['gender'].str.strip().str.capitalize()"
   ]
  },
  {
   "cell_type": "code",
   "execution_count": 14,
   "id": "ef6fcee2",
   "metadata": {},
   "outputs": [
    {
     "name": "stdout",
     "output_type": "stream",
     "text": [
      "Unique genders: ['Male' 'Other' 'Female']\n"
     ]
    }
   ],
   "source": [
    "print(\"Unique genders:\", df['gender'].unique())"
   ]
  },
  {
   "cell_type": "code",
   "execution_count": 15,
   "id": "1dbd0852",
   "metadata": {},
   "outputs": [],
   "source": [
    "df = df[df['age'].between(18, 100)]\n",
    "df = df[df['blood_pressure'].between(80, 250)]\n",
    "df = df[df['sugar_level'].between(50, 400)]\n",
    "df = df[df['cholesterol'].between(100, 400)]"
   ]
  },
  {
   "cell_type": "code",
   "execution_count": 16,
   "id": "3b03faf9",
   "metadata": {},
   "outputs": [],
   "source": [
    "df['high_bp'] = df['blood_pressure'] > 130\n",
    "df['pre_diabetic'] = (df['sugar_level'] >= 140) & (df['sugar_level'] < 200)\n",
    "df['high_cholesterol'] = df['cholesterol'] > 240"
   ]
  },
  {
   "cell_type": "code",
   "execution_count": 17,
   "id": "07e8b2a1",
   "metadata": {},
   "outputs": [
    {
     "name": "stdout",
     "output_type": "stream",
     "text": [
      "                            employee_id       date  age  gender    company  \\\n",
      "0  bdd640fb-0667-4ad1-9c80-317fa3b1799d 2022-04-13   56    Male    Infosys   \n",
      "1  23b8c1e9-3924-46de-beb1-3b9046685257 2023-03-12   53    Male        TCS   \n",
      "2  bd9c66b3-ad3c-4d6d-9a3d-1fa7bc8960a9 2022-09-28   35   Other  Accenture   \n",
      "3  972a8469-1641-4f82-8b9d-2434e465e150 2022-04-17   22    Male        TCS   \n",
      "4  17fc695a-07a0-4a6e-8822-e8f36c031199 2022-03-13   38  Female    Infosys   \n",
      "\n",
      "    location  blood_pressure  sugar_level  cholesterol  high_bp  pre_diabetic  \\\n",
      "0  Hyderabad             113          141          236    False          True   \n",
      "1      Delhi             160          140          283     True          True   \n",
      "2  Hyderabad             133          134          159     True         False   \n",
      "3     Mumbai             103          106          253    False         False   \n",
      "4  Bangalore             102          147          261    False          True   \n",
      "\n",
      "   high_cholesterol  \n",
      "0             False  \n",
      "1              True  \n",
      "2             False  \n",
      "3              True  \n",
      "4              True  \n"
     ]
    }
   ],
   "source": [
    "print(df.head())"
   ]
  },
  {
   "cell_type": "code",
   "execution_count": 18,
   "id": "83715b4e",
   "metadata": {},
   "outputs": [],
   "source": [
    "df.to_csv(\"cleaned_health_checkup_data.csv\", index=False)"
   ]
  },
  {
   "cell_type": "code",
   "execution_count": null,
   "id": "b07800ca",
   "metadata": {},
   "outputs": [],
   "source": []
  }
 ],
 "metadata": {
  "kernelspec": {
   "display_name": "Python 3 (ipykernel)",
   "language": "python",
   "name": "python3"
  },
  "language_info": {
   "codemirror_mode": {
    "name": "ipython",
    "version": 3
   },
   "file_extension": ".py",
   "mimetype": "text/x-python",
   "name": "python",
   "nbconvert_exporter": "python",
   "pygments_lexer": "ipython3",
   "version": "3.11.5"
  }
 },
 "nbformat": 4,
 "nbformat_minor": 5
}
